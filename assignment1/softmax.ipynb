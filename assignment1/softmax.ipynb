{
 "cells": [
  {
   "cell_type": "code",
   "execution_count": 1,
   "id": "149d5b7e",
   "metadata": {},
   "outputs": [],
   "source": [
    "# # This mounts your Google Drive to the Colab VM.\n",
    "# # from google.colab import drive\n",
    "# # drive.mount('/content/drive')\n",
    "\n",
    "# # TODO: Enter the foldername in your Drive where you have saved the unzipped\n",
    "# # assignment folder, e.g. 'cs231n/assignments/assignment1/'\n",
    "# FOLDERNAME = None\n",
    "# assert FOLDERNAME is not None, \"[!] Enter the foldername.\"\n",
    "\n",
    "# # Now that we've mounted your Drive, this ensures that\n",
    "# # the Python interpreter of the Colab VM can load\n",
    "# # python files from within it.\n",
    "# import sys\n",
    "# sys.path.append('/content/drive/My Drive/{}'.format(FOLDERNAME))\n",
    "\n",
    "# # This downloads the CIFAR-10 dataset to your Drive\n",
    "# # if it doesn't already exist.\n",
    "# %cd /content/drive/My\\ Drive/$FOLDERNAME/cs231n/datasets/\n",
    "# !bash get_datasets.sh\n",
    "# %cd /content/drive/My\\ Drive/$FOLDERNAME"
   ]
  },
  {
   "attachments": {},
   "cell_type": "markdown",
   "id": "5fdfc27e",
   "metadata": {
    "tags": [
     "pdf-title"
    ]
   },
   "source": [
    "# Softmax exercise\n",
    "\n",
    "*Complete and hand in this completed worksheet (including its outputs and any supporting code outside of the worksheet) with your assignment submission. For more details see the [assignments page](http://vision.stanford.edu/teaching/cs231n/assignments.html) on the course website.*\n",
    "\n",
    "This exercise is analogous to the SVM exercise. You will:\n",
    "\n",
    "- implement a fully-vectorized **loss function** for the Softmax classifier\n",
    "- implement the fully-vectorized expression for its **analytic gradient**\n",
    "- **check your implementation** with numerical gradient\n",
    "- use a validation set to **tune the learning rate and regularization** strength\n",
    "- **optimize** the loss function with **SGD**\n",
    "- **visualize** the final learned weights\n"
   ]
  },
  {
   "cell_type": "code",
   "execution_count": 2,
   "id": "ca6cf2d4",
   "metadata": {
    "tags": [
     "pdf-ignore"
    ]
   },
   "outputs": [],
   "source": [
    "import random\n",
    "import numpy as np\n",
    "from cs231n.data_utils import load_CIFAR10\n",
    "import matplotlib.pyplot as plt\n",
    "\n",
    "%matplotlib inline\n",
    "plt.rcParams['figure.figsize'] = (10.0, 8.0) # set default size of plots\n",
    "plt.rcParams['image.interpolation'] = 'nearest'\n",
    "plt.rcParams['image.cmap'] = 'gray'\n",
    "\n",
    "# for auto-reloading extenrnal modules\n",
    "# see http://stackoverflow.com/questions/1907993/autoreload-of-modules-in-ipython\n",
    "%load_ext autoreload\n",
    "%autoreload 2"
   ]
  },
  {
   "cell_type": "code",
   "execution_count": 3,
   "id": "9e9bbbbe",
   "metadata": {
    "tags": [
     "pdf-ignore"
    ]
   },
   "outputs": [
    {
     "name": "stdout",
     "output_type": "stream",
     "text": [
      "Train data shape:  (49000, 3073)\n",
      "Train labels shape:  (49000,)\n",
      "Validation data shape:  (1000, 3073)\n",
      "Validation labels shape:  (1000,)\n",
      "Test data shape:  (1000, 3073)\n",
      "Test labels shape:  (1000,)\n",
      "dev data shape:  (500, 3073)\n",
      "dev labels shape:  (500,)\n"
     ]
    }
   ],
   "source": [
    "def get_CIFAR10_data(num_training=49000, num_validation=1000, num_test=1000, num_dev=500):\n",
    "    \"\"\"\n",
    "    Load the CIFAR-10 dataset from disk and perform preprocessing to prepare\n",
    "    it for the linear classifier. These are the same steps as we used for the\n",
    "    SVM, but condensed to a single function.  \n",
    "    \"\"\"\n",
    "    # Load the raw CIFAR-10 data\n",
    "    cifar10_dir = 'cs231n/datasets/cifar-10-batches-py'\n",
    "    \n",
    "    # Cleaning up variables to prevent loading data multiple times (which may cause memory issue)\n",
    "    try:\n",
    "       del X_train, y_train\n",
    "       del X_test, y_test\n",
    "       print('Clear previously loaded data.')\n",
    "    except:\n",
    "       pass\n",
    "\n",
    "    X_train, y_train, X_test, y_test = load_CIFAR10(cifar10_dir)\n",
    "    \n",
    "    # subsample the data\n",
    "    mask = list(range(num_training, num_training + num_validation))\n",
    "    X_val = X_train[mask]\n",
    "    y_val = y_train[mask]\n",
    "    mask = list(range(num_training))\n",
    "    X_train = X_train[mask]\n",
    "    y_train = y_train[mask]\n",
    "    mask = list(range(num_test))\n",
    "    X_test = X_test[mask]\n",
    "    y_test = y_test[mask]\n",
    "    mask = np.random.choice(num_training, num_dev, replace=False)\n",
    "    X_dev = X_train[mask]\n",
    "    y_dev = y_train[mask]\n",
    "    \n",
    "    # Preprocessing: reshape the image data into rows\n",
    "    X_train = np.reshape(X_train, (X_train.shape[0], -1))\n",
    "    X_val = np.reshape(X_val, (X_val.shape[0], -1))\n",
    "    X_test = np.reshape(X_test, (X_test.shape[0], -1))\n",
    "    X_dev = np.reshape(X_dev, (X_dev.shape[0], -1))\n",
    "    \n",
    "    # Normalize the data: subtract the mean image\n",
    "    mean_image = np.mean(X_train, axis = 0)\n",
    "    X_train -= mean_image\n",
    "    X_val -= mean_image\n",
    "    X_test -= mean_image\n",
    "    X_dev -= mean_image\n",
    "    \n",
    "    # add bias dimension and transform into columns\n",
    "    X_train = np.hstack([X_train, np.ones((X_train.shape[0], 1))])\n",
    "    X_val = np.hstack([X_val, np.ones((X_val.shape[0], 1))])\n",
    "    X_test = np.hstack([X_test, np.ones((X_test.shape[0], 1))])\n",
    "    X_dev = np.hstack([X_dev, np.ones((X_dev.shape[0], 1))])\n",
    "    \n",
    "    return X_train, y_train, X_val, y_val, X_test, y_test, X_dev, y_dev\n",
    "\n",
    "\n",
    "# Invoke the above function to get our data.\n",
    "X_train, y_train, X_val, y_val, X_test, y_test, X_dev, y_dev = get_CIFAR10_data()\n",
    "print('Train data shape: ', X_train.shape)\n",
    "print('Train labels shape: ', y_train.shape)\n",
    "print('Validation data shape: ', X_val.shape)\n",
    "print('Validation labels shape: ', y_val.shape)\n",
    "print('Test data shape: ', X_test.shape)\n",
    "print('Test labels shape: ', y_test.shape)\n",
    "print('dev data shape: ', X_dev.shape)\n",
    "print('dev labels shape: ', y_dev.shape)"
   ]
  },
  {
   "attachments": {},
   "cell_type": "markdown",
   "id": "d4c3fb04",
   "metadata": {},
   "source": [
    "## Softmax Classifier\n",
    "\n",
    "Your code for this section will all be written inside `cs231n/classifiers/softmax.py`.\n"
   ]
  },
  {
   "cell_type": "code",
   "execution_count": 15,
   "id": "25f2e5e1",
   "metadata": {},
   "outputs": [
    {
     "name": "stdout",
     "output_type": "stream",
     "text": [
      "loss: 2.327512\n",
      "sanity check: 2.302585\n"
     ]
    }
   ],
   "source": [
    "# First implement the naive softmax loss function with nested loops.\n",
    "# Open the file cs231n/classifiers/softmax.py and implement the\n",
    "# softmax_loss_naive function.\n",
    "\n",
    "from cs231n.classifiers.softmax import softmax_loss_naive\n",
    "import time\n",
    "\n",
    "# Generate a random softmax weight matrix and use it to compute the loss.\n",
    "W = np.random.randn(3073, 10) * 0.0001\n",
    "loss, grad = softmax_loss_naive(W, X_dev, y_dev, 0.0)\n",
    "\n",
    "# As a rough sanity check, our loss should be something close to -log(0.1).\n",
    "print('loss: %f' % loss)\n",
    "print('sanity check: %f' % (-np.log(0.1)))"
   ]
  },
  {
   "attachments": {},
   "cell_type": "markdown",
   "id": "15ebc638",
   "metadata": {
    "tags": [
     "pdf-inline"
    ]
   },
   "source": [
    "**Inline Question 1**\n",
    "\n",
    "Why do we expect our loss to be close to -log(0.1)? Explain briefly.**\n",
    "\n",
    "$\\color{blue}{\\textit Your Answer:}$ *Fill this in* \n",
    "\n"
   ]
  },
  {
   "cell_type": "code",
   "execution_count": 16,
   "id": "a8cb3eb1",
   "metadata": {},
   "outputs": [
    {
     "name": "stdout",
     "output_type": "stream",
     "text": [
      "numerical: -0.958120 analytic: -0.958120, relative error: 5.889901e-10\n",
      "numerical: -0.859002 analytic: -0.859002, relative error: 5.679407e-08\n",
      "numerical: -2.227106 analytic: -2.227106, relative error: 1.109547e-08\n",
      "numerical: -2.323957 analytic: -2.323957, relative error: 9.989293e-10\n",
      "numerical: 0.542222 analytic: 0.542222, relative error: 6.587580e-08\n",
      "numerical: 2.241223 analytic: 2.241223, relative error: 2.063686e-08\n",
      "numerical: 0.295401 analytic: 0.295401, relative error: 1.443813e-07\n",
      "numerical: 0.577041 analytic: 0.577041, relative error: 6.631372e-08\n",
      "numerical: -0.131972 analytic: -0.131972, relative error: 1.229815e-08\n",
      "numerical: -2.408923 analytic: -2.408923, relative error: 2.304112e-08\n",
      "numerical: -0.916789 analytic: -0.916763, relative error: 1.458299e-05\n",
      "numerical: -0.485399 analytic: -0.485396, relative error: 2.742352e-06\n",
      "numerical: -2.273201 analytic: -2.273221, relative error: 4.266314e-06\n",
      "numerical: -0.489871 analytic: -0.489867, relative error: 4.116683e-06\n",
      "numerical: 2.034017 analytic: 2.033994, relative error: 5.832816e-06\n",
      "numerical: 0.837717 analytic: 0.837694, relative error: 1.327949e-05\n",
      "numerical: -5.743212 analytic: -5.743214, relative error: 1.214226e-07\n",
      "numerical: -0.064413 analytic: -0.064449, relative error: 2.775380e-04\n",
      "numerical: 1.409968 analytic: 1.410003, relative error: 1.227350e-05\n",
      "numerical: 0.999581 analytic: 0.999566, relative error: 7.279383e-06\n"
     ]
    }
   ],
   "source": [
    "# Complete the implementation of softmax_loss_naive and implement a (naive)\n",
    "# version of the gradient that uses nested loops.\n",
    "loss, grad = softmax_loss_naive(W, X_dev, y_dev, 0.0)\n",
    "\n",
    "# As we did for the SVM, use numeric gradient checking as a debugging tool.\n",
    "# The numeric gradient should be close to the analytic gradient.\n",
    "from cs231n.gradient_check import grad_check_sparse\n",
    "f = lambda w: softmax_loss_naive(w, X_dev, y_dev, 0.0)[0]\n",
    "grad_numerical = grad_check_sparse(f, W, grad, 10)\n",
    "\n",
    "# similar to SVM case, do another gradient check with regularization\n",
    "loss, grad = softmax_loss_naive(W, X_dev, y_dev, 5e1)\n",
    "f = lambda w: softmax_loss_naive(w, X_dev, y_dev, 5e1)[0]\n",
    "grad_numerical = grad_check_sparse(f, W, grad, 10)"
   ]
  },
  {
   "cell_type": "code",
   "execution_count": 18,
   "id": "4a4a81d4",
   "metadata": {},
   "outputs": [
    {
     "name": "stdout",
     "output_type": "stream",
     "text": [
      "naive loss: 2.327512e+00 computed in 0.047498s\n",
      "vectorized loss: 2.327512e+00 computed in 0.007197s\n",
      "Loss difference: 0.000000\n",
      "Gradient difference: 0.000000\n"
     ]
    }
   ],
   "source": [
    "# Now that we have a naive implementation of the softmax loss function and its gradient,\n",
    "# implement a vectorized version in softmax_loss_vectorized.\n",
    "# The two versions should compute the same results, but the vectorized version should be\n",
    "# much faster.\n",
    "tic = time.time()\n",
    "loss_naive, grad_naive = softmax_loss_naive(W, X_dev, y_dev, 0.000005)\n",
    "toc = time.time()\n",
    "print('naive loss: %e computed in %fs' % (loss_naive, toc - tic))\n",
    "\n",
    "from cs231n.classifiers.softmax import softmax_loss_vectorized\n",
    "tic = time.time()\n",
    "loss_vectorized, grad_vectorized = softmax_loss_vectorized(W, X_dev, y_dev, 0.000005)\n",
    "toc = time.time()\n",
    "print('vectorized loss: %e computed in %fs' % (loss_vectorized, toc - tic))\n",
    "\n",
    "# As we did for the SVM, we use the Frobenius norm to compare the two versions\n",
    "# of the gradient.\n",
    "grad_difference = np.linalg.norm(grad_naive - grad_vectorized, ord='fro')\n",
    "print('Loss difference: %f' % np.abs(loss_naive - loss_vectorized))\n",
    "print('Gradient difference: %f' % grad_difference)"
   ]
  },
  {
   "cell_type": "code",
   "execution_count": 20,
   "id": "a3453536",
   "metadata": {
    "tags": [
     "code"
    ],
    "test": "tuning"
   },
   "outputs": [
    {
     "name": "stdout",
     "output_type": "stream",
     "text": [
      "lr 1.000000e-08 reg 1.000000e+04 train accuracy: 0.123898 val accuracy: 0.110000\n",
      "lr 1.000000e-08 reg 1.257500e+06 train accuracy: 0.128408 val accuracy: 0.115000\n",
      "lr 1.000000e-08 reg 2.505000e+06 train accuracy: 0.120449 val accuracy: 0.119000\n",
      "lr 1.000000e-08 reg 3.752500e+06 train accuracy: 0.149000 val accuracy: 0.152000\n",
      "lr 1.000000e-08 reg 5.000000e+06 train accuracy: 0.126184 val accuracy: 0.130000\n",
      "lr 5.564444e-06 reg 1.000000e+04 train accuracy: 0.349347 val accuracy: 0.358000\n",
      "lr 5.564444e-06 reg 1.257500e+06 train accuracy: 0.242898 val accuracy: 0.246000\n",
      "lr 5.564444e-06 reg 2.505000e+06 train accuracy: 0.192918 val accuracy: 0.211000\n",
      "lr 5.564444e-06 reg 3.752500e+06 train accuracy: 0.168367 val accuracy: 0.172000\n",
      "lr 5.564444e-06 reg 5.000000e+06 train accuracy: 0.122857 val accuracy: 0.127000\n",
      "lr 1.111889e-05 reg 1.000000e+04 train accuracy: 0.271490 val accuracy: 0.258000\n",
      "lr 1.111889e-05 reg 1.257500e+06 train accuracy: 0.134163 val accuracy: 0.149000\n",
      "lr 1.111889e-05 reg 2.505000e+06 train accuracy: 0.152755 val accuracy: 0.138000\n",
      "lr 1.111889e-05 reg 3.752500e+06 train accuracy: 0.102980 val accuracy: 0.099000\n",
      "lr 1.111889e-05 reg 5.000000e+06 train accuracy: 0.078490 val accuracy: 0.083000\n",
      "lr 1.667333e-05 reg 1.000000e+04 train accuracy: 0.223429 val accuracy: 0.199000\n",
      "lr 1.667333e-05 reg 1.257500e+06 train accuracy: 0.155878 val accuracy: 0.153000\n",
      "lr 1.667333e-05 reg 2.505000e+06 train accuracy: 0.142837 val accuracy: 0.128000\n",
      "lr 1.667333e-05 reg 3.752500e+06 train accuracy: 0.083837 val accuracy: 0.091000\n",
      "lr 1.667333e-05 reg 5.000000e+06 train accuracy: 0.061265 val accuracy: 0.057000\n",
      "lr 2.222778e-05 reg 1.000000e+04 train accuracy: 0.266102 val accuracy: 0.268000\n",
      "lr 2.222778e-05 reg 1.257500e+06 train accuracy: 0.091531 val accuracy: 0.092000\n",
      "lr 2.222778e-05 reg 2.505000e+06 train accuracy: 0.115551 val accuracy: 0.107000\n",
      "lr 2.222778e-05 reg 3.752500e+06 train accuracy: 0.071327 val accuracy: 0.051000\n",
      "lr 2.222778e-05 reg 5.000000e+06 train accuracy: 0.100265 val accuracy: 0.087000\n",
      "lr 2.778222e-05 reg 1.000000e+04 train accuracy: 0.252490 val accuracy: 0.238000\n",
      "lr 2.778222e-05 reg 1.257500e+06 train accuracy: 0.159510 val accuracy: 0.169000\n",
      "lr 2.778222e-05 reg 2.505000e+06 train accuracy: 0.139143 val accuracy: 0.144000\n",
      "lr 2.778222e-05 reg 3.752500e+06 train accuracy: 0.100265 val accuracy: 0.087000\n",
      "lr 2.778222e-05 reg 5.000000e+06 train accuracy: 0.100265 val accuracy: 0.087000\n",
      "lr 3.333667e-05 reg 1.000000e+04 train accuracy: 0.255204 val accuracy: 0.267000\n",
      "lr 3.333667e-05 reg 1.257500e+06 train accuracy: 0.085551 val accuracy: 0.085000\n",
      "lr 3.333667e-05 reg 2.505000e+06 train accuracy: 0.103102 val accuracy: 0.104000\n",
      "lr 3.333667e-05 reg 3.752500e+06 train accuracy: 0.100265 val accuracy: 0.087000\n",
      "lr 3.333667e-05 reg 5.000000e+06 train accuracy: 0.100265 val accuracy: 0.087000\n",
      "lr 3.889111e-05 reg 1.000000e+04 train accuracy: 0.248878 val accuracy: 0.254000\n",
      "lr 3.889111e-05 reg 1.257500e+06 train accuracy: 0.075041 val accuracy: 0.081000\n",
      "lr 3.889111e-05 reg 2.505000e+06 train accuracy: 0.100265 val accuracy: 0.087000\n",
      "lr 3.889111e-05 reg 3.752500e+06 train accuracy: 0.100265 val accuracy: 0.087000\n",
      "lr 3.889111e-05 reg 5.000000e+06 train accuracy: 0.100265 val accuracy: 0.087000\n",
      "lr 4.444556e-05 reg 1.000000e+04 train accuracy: 0.286918 val accuracy: 0.277000\n",
      "lr 4.444556e-05 reg 1.257500e+06 train accuracy: 0.098041 val accuracy: 0.098000\n",
      "lr 4.444556e-05 reg 2.505000e+06 train accuracy: 0.100265 val accuracy: 0.087000\n",
      "lr 4.444556e-05 reg 3.752500e+06 train accuracy: 0.100265 val accuracy: 0.087000\n",
      "lr 4.444556e-05 reg 5.000000e+06 train accuracy: 0.100265 val accuracy: 0.087000\n",
      "lr 5.000000e-05 reg 1.000000e+04 train accuracy: 0.267531 val accuracy: 0.273000\n",
      "lr 5.000000e-05 reg 1.257500e+06 train accuracy: 0.066224 val accuracy: 0.068000\n",
      "lr 5.000000e-05 reg 2.505000e+06 train accuracy: 0.100265 val accuracy: 0.087000\n",
      "lr 5.000000e-05 reg 3.752500e+06 train accuracy: 0.100265 val accuracy: 0.087000\n",
      "lr 5.000000e-05 reg 5.000000e+06 train accuracy: 0.100265 val accuracy: 0.087000\n",
      "best validation accuracy achieved during cross-validation: 0.358000\n"
     ]
    }
   ],
   "source": [
    "# Use the validation set to tune hyperparameters (regularization strength and\n",
    "# learning rate). You should experiment with different ranges for the learning\n",
    "# rates and regularization strengths; if you are careful you should be able to\n",
    "# get a classification accuracy of over 0.35 on the validation set.\n",
    "\n",
    "from cs231n.classifiers import Softmax\n",
    "results = {}\n",
    "best_val = -1\n",
    "best_softmax = None\n",
    "\n",
    "################################################################################\n",
    "# TODO:                                                                        #\n",
    "# Use the validation set to set the learning rate and regularization strength. #\n",
    "# This should be identical to the validation that you did for the SVM; save    #\n",
    "# the best trained softmax classifer in best_softmax.                          #\n",
    "################################################################################\n",
    "\n",
    "# Provided as a reference. You may or may not want to change these hyperparameters\n",
    "learning_rates = np.linspace(1e-8, 5e-5, 10)\n",
    "regularization_strengths = np.linspace(1e4, 5e6, 5)\n",
    "\n",
    "# *****START OF YOUR CODE (DO NOT DELETE/MODIFY THIS LINE)*****\n",
    "\n",
    "for lr in learning_rates:\n",
    "    for reg in regularization_strengths:\n",
    "        softmax = Softmax()\n",
    "        loss_hist = softmax.train(X_train, y_train, learning_rate=lr, reg=reg, num_iters=500, batch_size=100, verbose=False)\n",
    "        y_train_predict = softmax.predict(X_train)\n",
    "        y_val_predict = softmax.predict(X_val)\n",
    "        train_accuracy = np.mean(y_train == y_train_predict)\n",
    "        val_accuracy = np.mean(y_val == y_val_predict)\n",
    "        results[(lr, reg)] = (train_accuracy, val_accuracy)\n",
    "        if best_val < val_accuracy:\n",
    "            best_val = val_accuracy\n",
    "            best_softmax = softmax\n",
    "\n",
    "# *****END OF YOUR CODE (DO NOT DELETE/MODIFY THIS LINE)*****\n",
    "    \n",
    "# Print out results.\n",
    "for lr, reg in sorted(results):\n",
    "    train_accuracy, val_accuracy = results[(lr, reg)]\n",
    "    print('lr %e reg %e train accuracy: %f val accuracy: %f' % (\n",
    "                lr, reg, train_accuracy, val_accuracy))\n",
    "    \n",
    "print('best validation accuracy achieved during cross-validation: %f' % best_val)"
   ]
  },
  {
   "cell_type": "code",
   "execution_count": 21,
   "id": "8a1f9db3",
   "metadata": {
    "test": "test"
   },
   "outputs": [
    {
     "name": "stdout",
     "output_type": "stream",
     "text": [
      "softmax on raw pixels final test set accuracy: 0.336000\n"
     ]
    }
   ],
   "source": [
    "# evaluate on test set\n",
    "# Evaluate the best softmax on test set\n",
    "y_test_pred = best_softmax.predict(X_test)\n",
    "test_accuracy = np.mean(y_test == y_test_pred)\n",
    "print('softmax on raw pixels final test set accuracy: %f' % (test_accuracy, ))"
   ]
  },
  {
   "attachments": {},
   "cell_type": "markdown",
   "id": "86b9b65c",
   "metadata": {
    "tags": [
     "pdf-inline"
    ]
   },
   "source": [
    "**Inline Question 2** - *True or False*\n",
    "\n",
    "Suppose the overall training loss is defined as the sum of the per-datapoint loss over all training examples. It is possible to add a new datapoint to a training set that would leave the SVM loss unchanged, but this is not the case with the Softmax classifier loss.\n",
    "\n",
    "$\\color{blue}{\\textit Your Answer:}$\n",
    "False\n",
    "\n",
    "$\\color{blue}{\\textit Your Explanation:}$\n",
    "In the case of the SVM loss, the loss for a single datapoint is defined as the sum of the margins between the scores of the incorrect classes and the score of the correct class. Adding a new datapoint to the training set can potentially change the scores for all classes, and therefore the loss.\n",
    "\n",
    "Similarly, in the case of the Softmax classifier loss, the loss for a single datapoint is defined as the negative log-likelihood of the correct class probability. Adding a new datapoint can lead to changes in the probabilities assigned to all classes, and thus the loss.\n",
    "\n",
    "In both cases, adding a new datapoint can impact the scores or probabilities for all classes, resulting in a different loss value.\n"
   ]
  },
  {
   "cell_type": "code",
   "execution_count": 22,
   "id": "009f08b9",
   "metadata": {},
   "outputs": [
    {
     "data": {
      "image/png": "[encoded data removed]",
      "text/plain": [
       "<Figure size 1000x800 with 10 Axes>"
      ]
     },
     "metadata": {},
     "output_type": "display_data"
    }
   ],
   "source": [
    "# Visualize the learned weights for each class\n",
    "w = best_softmax.W[:-1,:] # strip out the bias\n",
    "w = w.reshape(32, 32, 3, 10)\n",
    "\n",
    "w_min, w_max = np.min(w), np.max(w)\n",
    "\n",
    "classes = ['plane', 'car', 'bird', 'cat', 'deer', 'dog', 'frog', 'horse', 'ship', 'truck']\n",
    "for i in range(10):\n",
    "    plt.subplot(2, 5, i + 1)\n",
    "    \n",
    "    # Rescale the weights to be between 0 and 255\n",
    "    wimg = 255.0 * (w[:, :, :, i].squeeze() - w_min) / (w_max - w_min)\n",
    "    plt.imshow(wimg.astype('uint8'))\n",
    "    plt.axis('off')\n",
    "    plt.title(classes[i])"
   ]
  },
  {
   "cell_type": "code",
   "execution_count": null,
   "id": "3569b36b",
   "metadata": {},
   "outputs": [],
   "source": []
  }
 ],
 "metadata": {
  "kernelspec": {
   "display_name": "torch",
   "language": "python",
   "name": "python3"
  },
  "language_info": {
   "codemirror_mode": {
    "name": "ipython",
    "version": 3
   },
   "file_extension": ".py",
   "mimetype": "text/x-python",
   "name": "python",
   "nbconvert_exporter": "python",
   "pygments_lexer": "ipython3",
   "version": "3.10.0"
  }
 },
 "nbformat": 4,
 "nbformat_minor": 5
}
